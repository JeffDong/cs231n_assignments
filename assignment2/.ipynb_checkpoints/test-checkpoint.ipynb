{
 "cells": [
  {
   "cell_type": "code",
   "execution_count": 2,
   "metadata": {
    "collapsed": false
   },
   "outputs": [
    {
     "name": "stdout",
     "output_type": "stream",
     "text": [
      "[[[ 0.80016169  0.99371053]\n",
      "  [ 0.94060047  0.33239276]\n",
      "  [ 0.77154894  0.18593079]]\n",
      "\n",
      " [[ 0.99595104  0.90600716]\n",
      "  [ 0.32601444  0.27823082]\n",
      "  [ 0.00923011  0.97773829]]\n",
      "\n",
      " [[ 0.80395876  0.15270813]\n",
      "  [ 0.78561178  0.25478953]\n",
      "  [ 0.29902216  0.07711188]]\n",
      "\n",
      " [[ 0.73519808  0.06839045]\n",
      "  [ 0.18295476  0.25912496]\n",
      "  [ 0.94490655  0.11154369]]]\n",
      "[[ 0.80016169  0.99371053  0.94060047  0.33239276  0.77154894  0.18593079]\n",
      " [ 0.99595104  0.90600716  0.32601444  0.27823082  0.00923011  0.97773829]\n",
      " [ 0.80395876  0.15270813  0.78561178  0.25478953  0.29902216  0.07711188]\n",
      " [ 0.73519808  0.06839045  0.18295476  0.25912496  0.94490655  0.11154369]]\n",
      "[[ 0.80016169  1.99371053  2.94060047  3.33239276  4.77154894  5.18593079]\n",
      " [ 0.99595104  1.90600716  2.32601444  3.27823082  4.00923011  5.97773829]\n",
      " [ 0.80395876  1.15270813  2.78561178  3.25478953  4.29902216  5.07711188]\n",
      " [ 0.73519808  1.06839045  2.18295476  3.25912496  4.94490655  5.11154369]]\n"
     ]
    }
   ],
   "source": [
    "import numpy as np\n",
    "a = np.random.rand(4,3,2)\n",
    "print a\n",
    "a = a.reshape((a.shape[0],-1))\n",
    "print a\n",
    "print a + np.arange(6)"
   ]
  },
  {
   "cell_type": "code",
   "execution_count": 10,
   "metadata": {
    "collapsed": false
   },
   "outputs": [
    {
     "ename": "NameError",
     "evalue": "name 'b' is not defined",
     "output_type": "error",
     "traceback": [
      "\u001b[1;31m---------------------------------------------------------------------------\u001b[0m",
      "\u001b[1;31mNameError\u001b[0m                                 Traceback (most recent call last)",
      "\u001b[1;32m<ipython-input-10-5c1d9d6c92f3>\u001b[0m in \u001b[0;36m<module>\u001b[1;34m()\u001b[0m\n\u001b[1;32m----> 1\u001b[1;33m \u001b[0mb\u001b[0m\u001b[1;33m[\u001b[0m\u001b[1;34m'a'\u001b[0m\u001b[1;33m:\u001b[0m\u001b[1;36m1\u001b[0m\u001b[1;33m,\u001b[0m \u001b[1;34m'b'\u001b[0m\u001b[1;33m:\u001b[0m\u001b[1;36m2\u001b[0m\u001b[1;33m,\u001b[0m \u001b[1;34m'c'\u001b[0m\u001b[1;33m:\u001b[0m\u001b[1;36m3\u001b[0m\u001b[1;33m]\u001b[0m\u001b[1;33m\u001b[0m\u001b[0m\n\u001b[0m\u001b[0;32m      2\u001b[0m \u001b[1;32mprint\u001b[0m \u001b[0mb\u001b[0m\u001b[1;33m[\u001b[0m\u001b[1;34m'a'\u001b[0m\u001b[1;33m,\u001b[0m\u001b[1;34m'b'\u001b[0m\u001b[1;33m]\u001b[0m\u001b[1;33m\u001b[0m\u001b[0m\n",
      "\u001b[1;31mNameError\u001b[0m: name 'b' is not defined"
     ]
    }
   ],
   "source": [
    "b['a':1, 'b':2, 'c':3]\n",
    "print b['a','b']"
   ]
  },
  {
   "cell_type": "code",
   "execution_count": 11,
   "metadata": {
    "collapsed": false
   },
   "outputs": [
    {
     "name": "stdout",
     "output_type": "stream",
     "text": [
      "1\n",
      "2\n",
      "3\n",
      "4\n"
     ]
    }
   ],
   "source": [
    "for i in range(1, 5):\n",
    "    print i"
   ]
  },
  {
   "cell_type": "code",
   "execution_count": 14,
   "metadata": {
    "collapsed": false
   },
   "outputs": [
    {
     "name": "stdout",
     "output_type": "stream",
     "text": [
      "wa\n"
     ]
    }
   ],
   "source": [
    "print 'w'+'a'"
   ]
  },
  {
   "cell_type": "code",
   "execution_count": 15,
   "metadata": {
    "collapsed": false
   },
   "outputs": [
    {
     "name": "stdout",
     "output_type": "stream",
     "text": [
      "[0, 1, 2, 3, 5]\n"
     ]
    }
   ],
   "source": [
    "a = [1, 2, 3]\n",
    "b = [0]\n",
    "b += a\n",
    "b.append(5)\n",
    "print b"
   ]
  },
  {
   "cell_type": "code",
   "execution_count": 16,
   "metadata": {
    "collapsed": false
   },
   "outputs": [
    {
     "name": "stdout",
     "output_type": "stream",
     "text": [
      "6\n"
     ]
    }
   ],
   "source": [
    "print np.sum([1,2,3])"
   ]
  },
  {
   "cell_type": "code",
   "execution_count": 9,
   "metadata": {
    "collapsed": false
   },
   "outputs": [
    {
     "name": "stdout",
     "output_type": "stream",
     "text": [
      "[[ 3  8  1]\n",
      " [ 6 12  2]\n",
      " [ 9  4  3]]\n",
      "dx is :\n",
      "[[ 3.  4.  1.]\n",
      " [ 3.  4.  1.]\n",
      " [ 3.  4.  1.]]\n",
      "da is :\n",
      "[[ 1.  2.  1.]\n",
      " [ 2.  3.  2.]\n",
      " [ 3.  1.  3.]]\n"
     ]
    }
   ],
   "source": [
    "a = np.array([3, 4, 1])\n",
    "x = np.array([\n",
    "        [1, 2, 1],\n",
    "        [2, 3, 2],\n",
    "        [3, 1, 3]\n",
    "    ])\n",
    "print a * x\n",
    "print \"dx is :\"\n",
    "print (a * (x + 0.001) - a * (x - 0.001))/ (2 * 0.001)\n",
    "print \"da is :\"\n",
    "print (((a + 0.001) * x) - ((a - 0.001) * x))/ (2 * 0.001)"
   ]
  },
  {
   "cell_type": "code",
   "execution_count": 14,
   "metadata": {
    "collapsed": false
   },
   "outputs": [
    {
     "name": "stdout",
     "output_type": "stream",
     "text": [
      "[ 4.  5.  6.]\n",
      "[ 1.  1.  1.]\n"
     ]
    }
   ],
   "source": [
    "def e(x):\n",
    "    return np.mean(x, axis=0)\n",
    "\n",
    "x = np.array([\n",
    "        [1, 2, 3],\n",
    "        [4, 5, 6],\n",
    "        [7, 8, 9]\n",
    "    ])\n",
    "print e(x)\n",
    "print (e(x + 0.001) - e(x - 0.001)) / np.array(2 * 0.001)"
   ]
  },
  {
   "cell_type": "code",
   "execution_count": 41,
   "metadata": {
    "collapsed": false
   },
   "outputs": [
    {
     "name": "stdout",
     "output_type": "stream",
     "text": [
      "float64\n",
      "[[ 1.   1.   1. ]\n",
      " [ 4.   2.5  2. ]\n",
      " [ 7.   4.   3. ]]\n",
      "[[[   1. -100. -100.]\n",
      "  [   4.    5.    6.]\n",
      "  [   7.    8.    9.]]\n",
      "\n",
      " [[   2. -100. -100.]\n",
      "  [   5.    6.    7.]\n",
      "  [   8.    9.   10.]]\n",
      "\n",
      " [[   3. -100. -100.]\n",
      "  [   6.    7.    8.]\n",
      "  [   9.   10.   11.]]]\n"
     ]
    }
   ],
   "source": [
    "x = np.array([\n",
    "        [1, 2, 3],\n",
    "        [4, 5, 6],\n",
    "        [7, 8, 9]\n",
    "    ], dtype=float)\n",
    "a = np.array([1, 2, 3])\n",
    "print x.dtype\n",
    "print x / a\n",
    "y[:, 0:1, 1:3] += -100\n",
    "print y"
   ]
  },
  {
   "cell_type": "code",
   "execution_count": 48,
   "metadata": {
    "collapsed": false
   },
   "outputs": [
    {
     "name": "stdout",
     "output_type": "stream",
     "text": [
      "[[ 0.  0.  0.  0.  0.]\n",
      " [ 0.  1.  2.  3.  0.]\n",
      " [ 0.  4.  5.  6.  0.]\n",
      " [ 0.  7.  8.  9.  0.]\n",
      " [ 0.  0.  0.  0.  0.]]\n",
      "[[ 1.  2.  3.]\n",
      " [ 4.  5.  6.]\n",
      " [ 7.  8.  9.]]\n",
      "[[[  1.   2.   3.]\n",
      "  [  4.   5.   6.]\n",
      "  [  7.   8.   9.]]\n",
      "\n",
      " [[  2.   3.   4.]\n",
      "  [  5.   6.   7.]\n",
      "  [  8.   9.  10.]]\n",
      "\n",
      " [[  3.   4.   5.]\n",
      "  [  6.   7.   8.]\n",
      "  [  9.  10.  11.]]]\n",
      "3\n"
     ]
    }
   ],
   "source": [
    "y = np.array([x, x+1, x+2])\n",
    "\n",
    "print np.pad(x, 1, 'constant')\n",
    "print x\n",
    "print y\n",
    "print np.argmax(y[1, 0:2, 0:2], axis=None)"
   ]
  },
  {
   "cell_type": "code",
   "execution_count": 59,
   "metadata": {
    "collapsed": false
   },
   "outputs": [
    {
     "name": "stdout",
     "output_type": "stream",
     "text": [
      "[[[-0.55727326 -0.6745248 ]\n",
      "  [-0.38264075 -0.69637556]]\n",
      "\n",
      " [[ 0.34988413  0.30763375]\n",
      "  [ 0.0373165   0.2066364 ]]\n",
      "\n",
      " [[ 0.16891674 -2.63259313]\n",
      "  [ 0.31966605 -0.9239019 ]]]\n",
      "[[-0.55727326 -0.6745248  -0.38264075 -0.69637556]\n",
      " [ 0.34988413  0.30763375  0.0373165   0.2066364 ]\n",
      " [ 0.16891674 -2.63259313  0.31966605 -0.9239019 ]]\n"
     ]
    }
   ],
   "source": [
    "x = np.random.randn(3, 2, 2)\n",
    "print x\n",
    "print x.reshape(3, 4)"
   ]
  },
  {
   "cell_type": "code",
   "execution_count": 62,
   "metadata": {
    "collapsed": false
   },
   "outputs": [
    {
     "data": {
      "text/plain": [
       "array([2, 2, 4, 4, 8, 8])"
      ]
     },
     "execution_count": 62,
     "metadata": {},
     "output_type": "execute_result"
    }
   ],
   "source": [
    "a = np.array([1, 2, 3])\n",
    "b = np.array([1, 3, 3])\n",
    "print a == b"
   ]
  },
  {
   "cell_type": "code",
   "execution_count": null,
   "metadata": {
    "collapsed": true
   },
   "outputs": [],
   "source": []
  }
 ],
 "metadata": {
  "kernelspec": {
   "display_name": "Python 2",
   "language": "python",
   "name": "python2"
  },
  "language_info": {
   "codemirror_mode": {
    "name": "ipython",
    "version": 2
   },
   "file_extension": ".py",
   "mimetype": "text/x-python",
   "name": "python",
   "nbconvert_exporter": "python",
   "pygments_lexer": "ipython2",
   "version": "2.7.11"
  }
 },
 "nbformat": 4,
 "nbformat_minor": 0
}
