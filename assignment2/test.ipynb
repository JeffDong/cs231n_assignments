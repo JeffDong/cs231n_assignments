{
 "cells": [
  {
   "cell_type": "code",
   "execution_count": 9,
   "metadata": {
    "collapsed": false
   },
   "outputs": [
    {
     "name": "stdout",
     "output_type": "stream",
     "text": [
      "[[[ 0.19148534  0.76863297]\n",
      "  [ 0.81129259  0.93159992]\n",
      "  [ 0.1261606   0.27549578]]\n",
      "\n",
      " [[ 0.50594988  0.76063875]\n",
      "  [ 0.60058112  0.05068866]\n",
      "  [ 0.73237207  0.94019185]]\n",
      "\n",
      " [[ 0.15662568  0.37802091]\n",
      "  [ 0.91160151  0.56272205]\n",
      "  [ 0.38844616  0.87336857]]\n",
      "\n",
      " [[ 0.75221502  0.67323612]\n",
      "  [ 0.11236141  0.11963229]\n",
      "  [ 0.92695689  0.71241831]]]\n",
      "[[ 0.19148534  0.76863297  0.81129259  0.93159992  0.1261606   0.27549578]\n",
      " [ 0.50594988  0.76063875  0.60058112  0.05068866  0.73237207  0.94019185]\n",
      " [ 0.15662568  0.37802091  0.91160151  0.56272205  0.38844616  0.87336857]\n",
      " [ 0.75221502  0.67323612  0.11236141  0.11963229  0.92695689  0.71241831]]\n",
      "[[ 0.19148534  1.76863297  2.81129259  3.93159992  4.1261606   5.27549578]\n",
      " [ 0.50594988  1.76063875  2.60058112  3.05068866  4.73237207  5.94019185]\n",
      " [ 0.15662568  1.37802091  2.91160151  3.56272205  4.38844616  5.87336857]\n",
      " [ 0.75221502  1.67323612  2.11236141  3.11963229  4.92695689  5.71241831]]\n"
     ]
    }
   ],
   "source": [
    "import numpy as np\n",
    "a = np.random.rand(4,3,2)\n",
    "print a\n",
    "a = a.reshape((a.shape[0],-1))\n",
    "print a\n",
    "print a + np.arange(6)"
   ]
  },
  {
   "cell_type": "code",
   "execution_count": 10,
   "metadata": {
    "collapsed": false
   },
   "outputs": [
    {
     "ename": "NameError",
     "evalue": "name 'b' is not defined",
     "output_type": "error",
     "traceback": [
      "\u001b[1;31m---------------------------------------------------------------------------\u001b[0m",
      "\u001b[1;31mNameError\u001b[0m                                 Traceback (most recent call last)",
      "\u001b[1;32m<ipython-input-10-5c1d9d6c92f3>\u001b[0m in \u001b[0;36m<module>\u001b[1;34m()\u001b[0m\n\u001b[1;32m----> 1\u001b[1;33m \u001b[0mb\u001b[0m\u001b[1;33m[\u001b[0m\u001b[1;34m'a'\u001b[0m\u001b[1;33m:\u001b[0m\u001b[1;36m1\u001b[0m\u001b[1;33m,\u001b[0m \u001b[1;34m'b'\u001b[0m\u001b[1;33m:\u001b[0m\u001b[1;36m2\u001b[0m\u001b[1;33m,\u001b[0m \u001b[1;34m'c'\u001b[0m\u001b[1;33m:\u001b[0m\u001b[1;36m3\u001b[0m\u001b[1;33m]\u001b[0m\u001b[1;33m\u001b[0m\u001b[0m\n\u001b[0m\u001b[0;32m      2\u001b[0m \u001b[1;32mprint\u001b[0m \u001b[0mb\u001b[0m\u001b[1;33m[\u001b[0m\u001b[1;34m'a'\u001b[0m\u001b[1;33m,\u001b[0m\u001b[1;34m'b'\u001b[0m\u001b[1;33m]\u001b[0m\u001b[1;33m\u001b[0m\u001b[0m\n",
      "\u001b[1;31mNameError\u001b[0m: name 'b' is not defined"
     ]
    }
   ],
   "source": [
    "b['a':1, 'b':2, 'c':3]\n",
    "print b['a','b']"
   ]
  },
  {
   "cell_type": "code",
   "execution_count": 11,
   "metadata": {
    "collapsed": false
   },
   "outputs": [
    {
     "name": "stdout",
     "output_type": "stream",
     "text": [
      "1\n",
      "2\n",
      "3\n",
      "4\n"
     ]
    }
   ],
   "source": [
    "for i in range(1, 5):\n",
    "    print i"
   ]
  },
  {
   "cell_type": "code",
   "execution_count": 14,
   "metadata": {
    "collapsed": false
   },
   "outputs": [
    {
     "name": "stdout",
     "output_type": "stream",
     "text": [
      "wa\n"
     ]
    }
   ],
   "source": [
    "print 'w'+'a'"
   ]
  },
  {
   "cell_type": "code",
   "execution_count": 15,
   "metadata": {
    "collapsed": false
   },
   "outputs": [
    {
     "name": "stdout",
     "output_type": "stream",
     "text": [
      "[0, 1, 2, 3, 5]\n"
     ]
    }
   ],
   "source": [
    "a = [1, 2, 3]\n",
    "b = [0]\n",
    "b += a\n",
    "b.append(5)\n",
    "print b"
   ]
  },
  {
   "cell_type": "code",
   "execution_count": 16,
   "metadata": {
    "collapsed": false
   },
   "outputs": [
    {
     "name": "stdout",
     "output_type": "stream",
     "text": [
      "6\n"
     ]
    }
   ],
   "source": [
    "print np.sum([1,2,3])"
   ]
  },
  {
   "cell_type": "code",
   "execution_count": null,
   "metadata": {
    "collapsed": true
   },
   "outputs": [],
   "source": []
  }
 ],
 "metadata": {
  "kernelspec": {
   "display_name": "Python 2",
   "language": "python",
   "name": "python2"
  },
  "language_info": {
   "codemirror_mode": {
    "name": "ipython",
    "version": 2
   },
   "file_extension": ".py",
   "mimetype": "text/x-python",
   "name": "python",
   "nbconvert_exporter": "python",
   "pygments_lexer": "ipython2",
   "version": "2.7.11"
  }
 },
 "nbformat": 4,
 "nbformat_minor": 0
}
