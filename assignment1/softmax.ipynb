{
 "cells": [
  {
   "cell_type": "markdown",
   "metadata": {},
   "source": [
    "# Softmax exercise\n",
    "\n",
    "*Complete and hand in this completed worksheet (including its outputs and any supporting code outside of the worksheet) with your assignment submission. For more details see the [assignments page](http://vision.stanford.edu/teaching/cs231n/assignments.html) on the course website.*\n",
    "\n",
    "This exercise is analogous to the SVM exercise. You will:\n",
    "\n",
    "- implement a fully-vectorized **loss function** for the Softmax classifier\n",
    "- implement the fully-vectorized expression for its **analytic gradient**\n",
    "- **check your implementation** with numerical gradient\n",
    "- use a validation set to **tune the learning rate and regularization** strength\n",
    "- **optimize** the loss function with **SGD**\n",
    "- **visualize** the final learned weights\n"
   ]
  },
  {
   "cell_type": "code",
   "execution_count": 3,
   "metadata": {
    "collapsed": false
   },
   "outputs": [
    {
     "name": "stdout",
     "output_type": "stream",
     "text": [
      "The autoreload extension is already loaded. To reload it, use:\n",
      "  %reload_ext autoreload\n"
     ]
    }
   ],
   "source": [
    "import random\n",
    "import numpy as np\n",
    "from cs231n.data_utils import load_CIFAR10\n",
    "import matplotlib.pyplot as plt\n",
    "%matplotlib inline\n",
    "plt.rcParams['figure.figsize'] = (10.0, 8.0) # set default size of plots\n",
    "plt.rcParams['image.interpolation'] = 'nearest'\n",
    "plt.rcParams['image.cmap'] = 'gray'\n",
    "\n",
    "# for auto-reloading extenrnal modules\n",
    "# see http://stackoverflow.com/questions/1907993/autoreload-of-modules-in-ipython\n",
    "%load_ext autoreload\n",
    "%autoreload 2\n",
    "%reload_ext autoreload"
   ]
  },
  {
   "cell_type": "code",
   "execution_count": 4,
   "metadata": {
    "collapsed": false,
    "scrolled": true
   },
   "outputs": [
    {
     "name": "stdout",
     "output_type": "stream",
     "text": [
      "Train data shape:  (49000, 3073)\n",
      "Train labels shape:  (49000,)\n",
      "Validation data shape:  (1000, 3073)\n",
      "Validation labels shape:  (1000,)\n",
      "Test data shape:  (1000, 3073)\n",
      "Test labels shape:  (1000,)\n",
      "dev data shape:  (500, 3073)\n",
      "dev labels shape:  (500,)\n"
     ]
    }
   ],
   "source": [
    "def get_CIFAR10_data(num_training=49000, num_validation=1000, num_test=1000, num_dev=500):\n",
    "  \"\"\"\n",
    "  Load the CIFAR-10 dataset from disk and perform preprocessing to prepare\n",
    "  it for the linear classifier. These are the same steps as we used for the\n",
    "  SVM, but condensed to a single function.  \n",
    "  \"\"\"\n",
    "  # Load the raw CIFAR-10 data\n",
    "  cifar10_dir = 'cs231n/datasets/cifar-10-batches-py'\n",
    "  X_train, y_train, X_test, y_test = load_CIFAR10(cifar10_dir)\n",
    "  \n",
    "  # subsample the data\n",
    "  mask = range(num_training, num_training + num_validation)\n",
    "  X_val = X_train[mask]\n",
    "  y_val = y_train[mask]\n",
    "  mask = range(num_training)\n",
    "  X_train = X_train[mask]\n",
    "  y_train = y_train[mask]\n",
    "  mask = range(num_test)\n",
    "  X_test = X_test[mask]\n",
    "  y_test = y_test[mask]\n",
    "  mask = np.random.choice(num_training, num_dev, replace=False)\n",
    "  X_dev = X_train[mask]\n",
    "  y_dev = y_train[mask]\n",
    "  \n",
    "  # Preprocessing: reshape the image data into rows\n",
    "  X_train = np.reshape(X_train, (X_train.shape[0], -1))\n",
    "  X_val = np.reshape(X_val, (X_val.shape[0], -1))\n",
    "  X_test = np.reshape(X_test, (X_test.shape[0], -1))\n",
    "  X_dev = np.reshape(X_dev, (X_dev.shape[0], -1))\n",
    "  \n",
    "  # Normalize the data: subtract the mean image\n",
    "  mean_image = np.mean(X_train, axis = 0)\n",
    "  X_train -= mean_image\n",
    "  X_val -= mean_image\n",
    "  X_test -= mean_image\n",
    "  X_dev -= mean_image\n",
    "  \n",
    "  # add bias dimension and transform into columns\n",
    "  X_train = np.hstack([X_train, np.ones((X_train.shape[0], 1))])\n",
    "  X_val = np.hstack([X_val, np.ones((X_val.shape[0], 1))])\n",
    "  X_test = np.hstack([X_test, np.ones((X_test.shape[0], 1))])\n",
    "  X_dev = np.hstack([X_dev, np.ones((X_dev.shape[0], 1))])\n",
    "  \n",
    "  return X_train, y_train, X_val, y_val, X_test, y_test, X_dev, y_dev\n",
    "\n",
    "\n",
    "# Invoke the above function to get our data.\n",
    "X_train, y_train, X_val, y_val, X_test, y_test, X_dev, y_dev = get_CIFAR10_data()\n",
    "print 'Train data shape: ', X_train.shape\n",
    "print 'Train labels shape: ', y_train.shape\n",
    "print 'Validation data shape: ', X_val.shape\n",
    "print 'Validation labels shape: ', y_val.shape\n",
    "print 'Test data shape: ', X_test.shape\n",
    "print 'Test labels shape: ', y_test.shape\n",
    "print 'dev data shape: ', X_dev.shape\n",
    "print 'dev labels shape: ', y_dev.shape"
   ]
  },
  {
   "cell_type": "markdown",
   "metadata": {},
   "source": [
    "## Softmax Classifier\n",
    "\n",
    "Your code for this section will all be written inside **cs231n/classifiers/softmax.py**. \n"
   ]
  },
  {
   "cell_type": "code",
   "execution_count": 5,
   "metadata": {
    "collapsed": false
   },
   "outputs": [
    {
     "name": "stdout",
     "output_type": "stream",
     "text": [
      "loss: 2.362309\n",
      "sanity check: 2.302585\n"
     ]
    }
   ],
   "source": [
    "# First implement the naive softmax loss function with nested loops.\n",
    "# Open the file cs231n/classifiers/softmax.py and implement the\n",
    "# softmax_loss_naive function.\n",
    "\n",
    "from cs231n.classifiers.softmax import softmax_loss_naive\n",
    "import time\n",
    "\n",
    "# Generate a random softmax weight matrix and use it to compute the loss.\n",
    "W = np.random.randn(3073, 10) * 0.0001\n",
    "loss, grad = softmax_loss_naive(W, X_dev, y_dev, 0.0)\n",
    "\n",
    "# As a rough sanity check, our loss should be something close to -log(0.1).\n",
    "print 'loss: %f' % loss\n",
    "print 'sanity check: %f' % (-np.log(0.1))"
   ]
  },
  {
   "cell_type": "markdown",
   "metadata": {},
   "source": [
    "## Inline Question 1:\n",
    "Why do we expect our loss to be close to -log(0.1)? Explain briefly.**\n",
    "\n",
    "**Your answer:** *There is ten classes so the probability of each class is close to 0.1 when randomly guess*\n"
   ]
  },
  {
   "cell_type": "code",
   "execution_count": 6,
   "metadata": {
    "collapsed": false
   },
   "outputs": [
    {
     "name": "stdout",
     "output_type": "stream",
     "text": [
      "numerical: -0.821467 analytic: -0.821467, relative error: 5.221130e-08\n",
      "numerical: 0.849431 analytic: 0.849431, relative error: 2.516993e-08\n",
      "numerical: 0.021196 analytic: 0.021196, relative error: 1.080215e-06\n",
      "numerical: -0.463966 analytic: -0.463966, relative error: 1.763839e-07\n",
      "numerical: 1.579433 analytic: 1.579433, relative error: 1.257449e-08\n",
      "numerical: 0.958377 analytic: 0.958377, relative error: 4.010189e-08\n",
      "numerical: -0.082070 analytic: -0.082070, relative error: 3.871388e-07\n",
      "numerical: -1.371509 analytic: -1.371509, relative error: 6.014781e-09\n",
      "numerical: 2.556360 analytic: 2.556360, relative error: 1.547893e-08\n",
      "numerical: -0.747405 analytic: -0.747405, relative error: 3.103826e-08\n",
      "numerical: -3.957442 analytic: -3.957442, relative error: 8.699927e-09\n",
      "numerical: -0.095339 analytic: -0.095339, relative error: 5.852454e-07\n",
      "numerical: -1.695636 analytic: -1.695636, relative error: 5.744037e-09\n",
      "numerical: -1.406402 analytic: -1.406402, relative error: 2.338728e-08\n",
      "numerical: -0.182759 analytic: -0.182760, relative error: 3.463838e-07\n",
      "numerical: -1.669613 analytic: -1.669613, relative error: 7.548405e-09\n",
      "numerical: 0.370635 analytic: 0.370635, relative error: 8.060423e-08\n",
      "numerical: -3.511003 analytic: -3.511003, relative error: 2.543852e-09\n",
      "numerical: 0.042973 analytic: 0.042973, relative error: 1.231030e-06\n",
      "numerical: -1.033150 analytic: -1.033150, relative error: 9.878221e-09\n"
     ]
    }
   ],
   "source": [
    "# Complete the implementation of softmax_loss_naive and implement a (naive)\n",
    "# version of the gradient that uses nested loops.\n",
    "loss, grad = softmax_loss_naive(W, X_dev, y_dev, 0.0)\n",
    "\n",
    "# As we did for the SVM, use numeric gradient checking as a debugging tool.\n",
    "# The numeric gradient should be close to the analytic gradient.\n",
    "from cs231n.gradient_check import grad_check_sparse\n",
    "f = lambda w: softmax_loss_naive(w, X_dev, y_dev, 0.0)[0]\n",
    "grad_numerical = grad_check_sparse(f, W, grad, 10)\n",
    "\n",
    "# similar to SVM case, do another gradient check with regularization\n",
    "loss, grad = softmax_loss_naive(W, X_dev, y_dev, 1e2)\n",
    "f = lambda w: softmax_loss_naive(w, X_dev, y_dev, 1e2)[0]\n",
    "grad_numerical = grad_check_sparse(f, W, grad, 10)"
   ]
  },
  {
   "cell_type": "code",
   "execution_count": 21,
   "metadata": {
    "collapsed": false
   },
   "outputs": [
    {
     "name": "stdout",
     "output_type": "stream",
     "text": [
      "naive loss: 2.362309e+00 computed in 0.036495s\n",
      "(500, 10)\n",
      "vectorized loss: 2.362309e+00 computed in 0.002366s\n",
      "Loss difference: 0.000000\n",
      "Gradient difference: 0.000000\n"
     ]
    }
   ],
   "source": [
    "# Now that we have a naive implementation of the softmax loss function and its gradient,\n",
    "# implement a vectorized version in softmax_loss_vectorized.\n",
    "# The two versions should compute the same results, but the vectorized version should be\n",
    "# much faster.\n",
    "tic = time.time()\n",
    "loss_naive, grad_naive = softmax_loss_naive(W, X_dev, y_dev, 0.00001)\n",
    "toc = time.time()\n",
    "print 'naive loss: %e computed in %fs' % (loss_naive, toc - tic)\n",
    "\n",
    "from cs231n.classifiers.softmax import softmax_loss_vectorized\n",
    "tic = time.time()\n",
    "loss_vectorized, grad_vectorized = softmax_loss_vectorized(W, X_dev, y_dev, 0.00001)\n",
    "toc = time.time()\n",
    "print 'vectorized loss: %e computed in %fs' % (loss_vectorized, toc - tic)\n",
    "\n",
    "# As we did for the SVM, we use the Frobenius norm to compare the two versions\n",
    "# of the gradient.\n",
    "grad_difference = np.linalg.norm(grad_naive - grad_vectorized, ord='fro')\n",
    "print 'Loss difference: %f' % np.abs(loss_naive - loss_vectorized)\n",
    "print 'Gradient difference: %f' % grad_difference"
   ]
  },
  {
   "cell_type": "code",
   "execution_count": 24,
   "metadata": {
    "collapsed": false
   },
   "outputs": [
    {
     "name": "stderr",
     "output_type": "stream",
     "text": [
      "cs231n/classifiers/softmax.py:81: RuntimeWarning: divide by zero encountered in log\n",
      "  loss = np.sum(-np.log(probs[np.arange(num_train), y]))\n",
      "cs231n/classifiers/softmax.py:87: RuntimeWarning: overflow encountered in double_scalars\n",
      "  \n",
      "cs231n/classifiers/softmax.py:87: RuntimeWarning: overflow encountered in multiply\n",
      "  \n",
      "cs231n/classifiers/softmax.py:88: RuntimeWarning: overflow encountered in multiply\n",
      "  loss += 0.5 * reg * np.sum(W * W)\n"
     ]
    },
    {
     "name": "stdout",
     "output_type": "stream",
     "text": [
      "lr 1.000000e-07 reg 5.000000e+04 train accuracy: 0.321980 val accuracy: 0.327000\n",
      "lr 1.000000e-07 reg 1.004500e+07 train accuracy: 0.199653 val accuracy: 0.213000\n",
      "lr 1.000000e-07 reg 2.004000e+07 train accuracy: 0.111061 val accuracy: 0.106000\n",
      "lr 1.000000e-07 reg 3.003500e+07 train accuracy: 0.100265 val accuracy: 0.087000\n",
      "lr 1.000000e-07 reg 4.003000e+07 train accuracy: 0.100265 val accuracy: 0.087000\n",
      "lr 1.000000e-07 reg 5.002500e+07 train accuracy: 0.100265 val accuracy: 0.087000\n",
      "lr 1.000000e-07 reg 6.002000e+07 train accuracy: 0.100265 val accuracy: 0.087000\n",
      "lr 1.000000e-07 reg 7.001500e+07 train accuracy: 0.100265 val accuracy: 0.087000\n",
      "lr 1.000000e-07 reg 8.001000e+07 train accuracy: 0.100265 val accuracy: 0.087000\n",
      "lr 1.000000e-07 reg 9.000500e+07 train accuracy: 0.100265 val accuracy: 0.087000\n",
      "lr 1.400000e-07 reg 5.000000e+04 train accuracy: 0.332571 val accuracy: 0.354000\n",
      "lr 1.400000e-07 reg 1.004500e+07 train accuracy: 0.194776 val accuracy: 0.213000\n",
      "lr 1.400000e-07 reg 2.004000e+07 train accuracy: 0.100265 val accuracy: 0.087000\n",
      "lr 1.400000e-07 reg 3.003500e+07 train accuracy: 0.100265 val accuracy: 0.087000\n",
      "lr 1.400000e-07 reg 4.003000e+07 train accuracy: 0.100265 val accuracy: 0.087000\n",
      "lr 1.400000e-07 reg 5.002500e+07 train accuracy: 0.100265 val accuracy: 0.087000\n",
      "lr 1.400000e-07 reg 6.002000e+07 train accuracy: 0.100265 val accuracy: 0.087000\n",
      "lr 1.400000e-07 reg 7.001500e+07 train accuracy: 0.100265 val accuracy: 0.087000\n",
      "lr 1.400000e-07 reg 8.001000e+07 train accuracy: 0.100265 val accuracy: 0.087000\n",
      "lr 1.400000e-07 reg 9.000500e+07 train accuracy: 0.100265 val accuracy: 0.087000\n",
      "lr 1.800000e-07 reg 5.000000e+04 train accuracy: 0.319408 val accuracy: 0.337000\n",
      "lr 1.800000e-07 reg 1.004500e+07 train accuracy: 0.149061 val accuracy: 0.136000\n",
      "lr 1.800000e-07 reg 2.004000e+07 train accuracy: 0.100265 val accuracy: 0.087000\n",
      "lr 1.800000e-07 reg 3.003500e+07 train accuracy: 0.100265 val accuracy: 0.087000\n",
      "lr 1.800000e-07 reg 4.003000e+07 train accuracy: 0.100265 val accuracy: 0.087000\n",
      "lr 1.800000e-07 reg 5.002500e+07 train accuracy: 0.100265 val accuracy: 0.087000\n",
      "lr 1.800000e-07 reg 6.002000e+07 train accuracy: 0.100265 val accuracy: 0.087000\n",
      "lr 1.800000e-07 reg 7.001500e+07 train accuracy: 0.100265 val accuracy: 0.087000\n",
      "lr 1.800000e-07 reg 8.001000e+07 train accuracy: 0.100265 val accuracy: 0.087000\n",
      "lr 1.800000e-07 reg 9.000500e+07 train accuracy: 0.100265 val accuracy: 0.087000\n",
      "lr 2.200000e-07 reg 5.000000e+04 train accuracy: 0.323327 val accuracy: 0.348000\n",
      "lr 2.200000e-07 reg 1.004500e+07 train accuracy: 0.096020 val accuracy: 0.103000\n",
      "lr 2.200000e-07 reg 2.004000e+07 train accuracy: 0.100265 val accuracy: 0.087000\n",
      "lr 2.200000e-07 reg 3.003500e+07 train accuracy: 0.100265 val accuracy: 0.087000\n",
      "lr 2.200000e-07 reg 4.003000e+07 train accuracy: 0.100265 val accuracy: 0.087000\n",
      "lr 2.200000e-07 reg 5.002500e+07 train accuracy: 0.100265 val accuracy: 0.087000\n",
      "lr 2.200000e-07 reg 6.002000e+07 train accuracy: 0.100265 val accuracy: 0.087000\n",
      "lr 2.200000e-07 reg 7.001500e+07 train accuracy: 0.100265 val accuracy: 0.087000\n",
      "lr 2.200000e-07 reg 8.001000e+07 train accuracy: 0.100265 val accuracy: 0.087000\n",
      "lr 2.200000e-07 reg 9.000500e+07 train accuracy: 0.100265 val accuracy: 0.087000\n",
      "lr 2.600000e-07 reg 5.000000e+04 train accuracy: 0.327878 val accuracy: 0.333000\n",
      "lr 2.600000e-07 reg 1.004500e+07 train accuracy: 0.100265 val accuracy: 0.087000\n",
      "lr 2.600000e-07 reg 2.004000e+07 train accuracy: 0.100265 val accuracy: 0.087000\n",
      "lr 2.600000e-07 reg 3.003500e+07 train accuracy: 0.100265 val accuracy: 0.087000\n",
      "lr 2.600000e-07 reg 4.003000e+07 train accuracy: 0.100265 val accuracy: 0.087000\n",
      "lr 2.600000e-07 reg 5.002500e+07 train accuracy: 0.100265 val accuracy: 0.087000\n",
      "lr 2.600000e-07 reg 6.002000e+07 train accuracy: 0.100265 val accuracy: 0.087000\n",
      "lr 2.600000e-07 reg 7.001500e+07 train accuracy: 0.100265 val accuracy: 0.087000\n",
      "lr 2.600000e-07 reg 8.001000e+07 train accuracy: 0.100265 val accuracy: 0.087000\n",
      "lr 2.600000e-07 reg 9.000500e+07 train accuracy: 0.100265 val accuracy: 0.087000\n",
      "lr 3.000000e-07 reg 5.000000e+04 train accuracy: 0.331122 val accuracy: 0.344000\n",
      "lr 3.000000e-07 reg 1.004500e+07 train accuracy: 0.100265 val accuracy: 0.087000\n",
      "lr 3.000000e-07 reg 2.004000e+07 train accuracy: 0.100265 val accuracy: 0.087000\n",
      "lr 3.000000e-07 reg 3.003500e+07 train accuracy: 0.100265 val accuracy: 0.087000\n",
      "lr 3.000000e-07 reg 4.003000e+07 train accuracy: 0.100265 val accuracy: 0.087000\n",
      "lr 3.000000e-07 reg 5.002500e+07 train accuracy: 0.100265 val accuracy: 0.087000\n",
      "lr 3.000000e-07 reg 6.002000e+07 train accuracy: 0.100265 val accuracy: 0.087000\n",
      "lr 3.000000e-07 reg 7.001500e+07 train accuracy: 0.100265 val accuracy: 0.087000\n",
      "lr 3.000000e-07 reg 8.001000e+07 train accuracy: 0.100265 val accuracy: 0.087000\n",
      "lr 3.000000e-07 reg 9.000500e+07 train accuracy: 0.100265 val accuracy: 0.087000\n",
      "lr 3.400000e-07 reg 5.000000e+04 train accuracy: 0.331082 val accuracy: 0.344000\n",
      "lr 3.400000e-07 reg 1.004500e+07 train accuracy: 0.100265 val accuracy: 0.087000\n",
      "lr 3.400000e-07 reg 2.004000e+07 train accuracy: 0.100265 val accuracy: 0.087000\n",
      "lr 3.400000e-07 reg 3.003500e+07 train accuracy: 0.100265 val accuracy: 0.087000\n",
      "lr 3.400000e-07 reg 4.003000e+07 train accuracy: 0.100265 val accuracy: 0.087000\n",
      "lr 3.400000e-07 reg 5.002500e+07 train accuracy: 0.100265 val accuracy: 0.087000\n",
      "lr 3.400000e-07 reg 6.002000e+07 train accuracy: 0.100265 val accuracy: 0.087000\n",
      "lr 3.400000e-07 reg 7.001500e+07 train accuracy: 0.100265 val accuracy: 0.087000\n",
      "lr 3.400000e-07 reg 8.001000e+07 train accuracy: 0.100265 val accuracy: 0.087000\n",
      "lr 3.400000e-07 reg 9.000500e+07 train accuracy: 0.100265 val accuracy: 0.087000\n",
      "lr 3.800000e-07 reg 5.000000e+04 train accuracy: 0.327796 val accuracy: 0.344000\n",
      "lr 3.800000e-07 reg 1.004500e+07 train accuracy: 0.100265 val accuracy: 0.087000\n",
      "lr 3.800000e-07 reg 2.004000e+07 train accuracy: 0.100265 val accuracy: 0.087000\n",
      "lr 3.800000e-07 reg 3.003500e+07 train accuracy: 0.100265 val accuracy: 0.087000\n",
      "lr 3.800000e-07 reg 4.003000e+07 train accuracy: 0.100265 val accuracy: 0.087000\n",
      "lr 3.800000e-07 reg 5.002500e+07 train accuracy: 0.100265 val accuracy: 0.087000\n",
      "lr 3.800000e-07 reg 6.002000e+07 train accuracy: 0.100265 val accuracy: 0.087000\n",
      "lr 3.800000e-07 reg 7.001500e+07 train accuracy: 0.100265 val accuracy: 0.087000\n",
      "lr 3.800000e-07 reg 8.001000e+07 train accuracy: 0.100265 val accuracy: 0.087000\n",
      "lr 3.800000e-07 reg 9.000500e+07 train accuracy: 0.100265 val accuracy: 0.087000\n",
      "lr 4.200000e-07 reg 5.000000e+04 train accuracy: 0.330265 val accuracy: 0.345000\n",
      "lr 4.200000e-07 reg 1.004500e+07 train accuracy: 0.100265 val accuracy: 0.087000\n",
      "lr 4.200000e-07 reg 2.004000e+07 train accuracy: 0.100265 val accuracy: 0.087000\n",
      "lr 4.200000e-07 reg 3.003500e+07 train accuracy: 0.100265 val accuracy: 0.087000\n",
      "lr 4.200000e-07 reg 4.003000e+07 train accuracy: 0.100265 val accuracy: 0.087000\n",
      "lr 4.200000e-07 reg 5.002500e+07 train accuracy: 0.100265 val accuracy: 0.087000\n",
      "lr 4.200000e-07 reg 6.002000e+07 train accuracy: 0.100265 val accuracy: 0.087000\n",
      "lr 4.200000e-07 reg 7.001500e+07 train accuracy: 0.100265 val accuracy: 0.087000\n",
      "lr 4.200000e-07 reg 8.001000e+07 train accuracy: 0.100265 val accuracy: 0.087000\n",
      "lr 4.200000e-07 reg 9.000500e+07 train accuracy: 0.100265 val accuracy: 0.087000\n",
      "lr 4.600000e-07 reg 5.000000e+04 train accuracy: 0.324592 val accuracy: 0.353000\n",
      "lr 4.600000e-07 reg 1.004500e+07 train accuracy: 0.100265 val accuracy: 0.087000\n",
      "lr 4.600000e-07 reg 2.004000e+07 train accuracy: 0.100265 val accuracy: 0.087000\n",
      "lr 4.600000e-07 reg 3.003500e+07 train accuracy: 0.100265 val accuracy: 0.087000\n",
      "lr 4.600000e-07 reg 4.003000e+07 train accuracy: 0.100265 val accuracy: 0.087000\n",
      "lr 4.600000e-07 reg 5.002500e+07 train accuracy: 0.100265 val accuracy: 0.087000\n",
      "lr 4.600000e-07 reg 6.002000e+07 train accuracy: 0.100265 val accuracy: 0.087000\n",
      "lr 4.600000e-07 reg 7.001500e+07 train accuracy: 0.100265 val accuracy: 0.087000\n",
      "lr 4.600000e-07 reg 8.001000e+07 train accuracy: 0.100265 val accuracy: 0.087000\n",
      "lr 4.600000e-07 reg 9.000500e+07 train accuracy: 0.100265 val accuracy: 0.087000\n",
      "best validation accuracy achieved during cross-validation: 0.354000\n"
     ]
    },
    {
     "name": "stderr",
     "output_type": "stream",
     "text": [
      "cs231n/classifiers/softmax.py:78: RuntimeWarning: invalid value encountered in subtract\n",
      "  Scores -= max_scores\n"
     ]
    }
   ],
   "source": [
    "# Use the validation set to tune hyperparameters (regularization strength and\n",
    "# learning rate). You should experiment with different ranges for the learning\n",
    "# rates and regularization strengths; if you are careful you should be able to\n",
    "# get a classification accuracy of over 0.35 on the validation set.\n",
    "from cs231n.classifiers import Softmax\n",
    "results = {}\n",
    "best_val = -1\n",
    "best_softmax = None\n",
    "learning_rates = [1e-7, 5e-7]\n",
    "regularization_strengths = [5e4, 1e8]\n",
    "\n",
    "################################################################################\n",
    "# TODO:                                                                        #\n",
    "# Use the validation set to set the learning rate and regularization strength. #\n",
    "# This should be identical to the validation that you did for the SVM; save    #\n",
    "# the best trained softmax classifer in best_softmax.                          #\n",
    "################################################################################\n",
    "rates = []\n",
    "regs = []\n",
    "interval_size = 10\n",
    "for i in range(interval_size):\n",
    "    rates.append(learning_rates[0] + i * (learning_rates[1] - learning_rates[0]) / interval_size)\n",
    "    regs.append(regularization_strengths[0] + \n",
    "                i * (regularization_strengths[1] - regularization_strengths[0]) / interval_size)\n",
    "for rate in rates:\n",
    "    for reg in regs:\n",
    "        clf = Softmax()\n",
    "        loss_hist = clf.train(X_train, y_train, learning_rate=rate, reg=reg,\n",
    "                      num_iters=1500, verbose=False)\n",
    "        y_train_pred = clf.predict(X_train)\n",
    "        y_val_pred = clf.predict(X_val)\n",
    "        train_accuracy = np.mean(y_train_pred == y_train)\n",
    "        val_accuracy = np.mean(y_val_pred == y_val)\n",
    "        results[(rate, reg)] = (train_accuracy, val_accuracy)\n",
    "        if val_accuracy > best_val:\n",
    "            best_val = val_accuracy\n",
    "            best_softmax = clf\n",
    "################################################################################\n",
    "#                              END OF YOUR CODE                                #\n",
    "################################################################################\n",
    "    \n",
    "# Print out results.\n",
    "for lr, reg in sorted(results):\n",
    "    train_accuracy, val_accuracy = results[(lr, reg)]\n",
    "    print 'lr %e reg %e train accuracy: %f val accuracy: %f' % (\n",
    "                lr, reg, train_accuracy, val_accuracy)\n",
    "    \n",
    "print 'best validation accuracy achieved during cross-validation: %f' % best_val"
   ]
  },
  {
   "cell_type": "code",
   "execution_count": 25,
   "metadata": {
    "collapsed": false
   },
   "outputs": [
    {
     "name": "stdout",
     "output_type": "stream",
     "text": [
      "softmax on raw pixels final test set accuracy: 0.347000\n"
     ]
    }
   ],
   "source": [
    "# evaluate on test set\n",
    "# Evaluate the best softmax on test set\n",
    "y_test_pred = best_softmax.predict(X_test)\n",
    "test_accuracy = np.mean(y_test == y_test_pred)\n",
    "print 'softmax on raw pixels final test set accuracy: %f' % (test_accuracy, )"
   ]
  },
  {
   "cell_type": "code",
   "execution_count": 26,
   "metadata": {
    "collapsed": false
   },
   "outputs": [
    {
     "data": {
      "image/png": "[encoded data removed]",
      "text/plain": [
       "<matplotlib.figure.Figure at 0x7fdd80387410>"
      ]
     },
     "metadata": {},
     "output_type": "display_data"
    }
   ],
   "source": [
    "# Visualize the learned weights for each class\n",
    "w = best_softmax.W[:-1,:] # strip out the bias\n",
    "w = w.reshape(32, 32, 3, 10)\n",
    "\n",
    "w_min, w_max = np.min(w), np.max(w)\n",
    "\n",
    "classes = ['plane', 'car', 'bird', 'cat', 'deer', 'dog', 'frog', 'horse', 'ship', 'truck']\n",
    "for i in xrange(10):\n",
    "  plt.subplot(2, 5, i + 1)\n",
    "  \n",
    "  # Rescale the weights to be between 0 and 255\n",
    "  wimg = 255.0 * (w[:, :, :, i].squeeze() - w_min) / (w_max - w_min)\n",
    "  plt.imshow(wimg.astype('uint8'))\n",
    "  plt.axis('off')\n",
    "  plt.title(classes[i])"
   ]
  },
  {
   "cell_type": "code",
   "execution_count": null,
   "metadata": {
    "collapsed": true
   },
   "outputs": [],
   "source": []
  }
 ],
 "metadata": {
  "kernelspec": {
   "display_name": "Python 2",
   "language": "python",
   "name": "python2"
  },
  "language_info": {
   "codemirror_mode": {
    "name": "ipython",
    "version": 2
   },
   "file_extension": ".py",
   "mimetype": "text/x-python",
   "name": "python",
   "nbconvert_exporter": "python",
   "pygments_lexer": "ipython2",
   "version": "2.7.11"
  }
 },
 "nbformat": 4,
 "nbformat_minor": 0
}
